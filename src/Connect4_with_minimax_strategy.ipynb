{
 "cells": [
  {
   "cell_type": "markdown",
   "metadata": {},
   "source": [
    "# CMPE 260 Reinforcement Learning\n",
    "\n",
    "## Connect 4 game - MiniMax Strategy \n",
    "### Team Members: Abhishek Bais, Haley Feng, Princy Joy, Shannon Phu"
   ]
  },
  {
   "cell_type": "markdown",
   "metadata": {},
   "source": [
    "* Minimax algorithm *  \n",
    "Minimax algorithm is a recursive algorithm which is used in decision-making and game theory especially in AI game. It provides optimal moves for the player, assuming that the opponent is also playing optimally. For example, considering two opponents: Max and Min playing. Max will try to maximize the value, while Min will choose whatever value is the minimum. The algorithm performs a depth-first search (DFS) which means it will explore the complete game tree as deep as possible, all the way down to the leaf nodes. "
   ]
  },
  {
   "cell_type": "code",
   "execution_count": null,
   "metadata": {},
   "outputs": [],
   "source": [
    "# 1.0 Install packages\n",
    "!pip3 install numpy pygame"
   ]
  },
  {
   "cell_type": "code",
   "execution_count": 1,
   "metadata": {},
   "outputs": [
    {
     "name": "stdout",
     "output_type": "stream",
     "text": [
      "pygame 2.1.0 (SDL 2.0.16, Python 3.8.5)\n",
      "Hello from the pygame community. https://www.pygame.org/contribute.html\n"
     ]
    }
   ],
   "source": [
    "# 2.0 Import libraries and classes\n",
    "from minimax import Minimax\n",
    "import GameController\n",
    "from GameController import GameController\n",
    "from mcts import MonteCarloTreeSearch"
   ]
  },
  {
   "cell_type": "code",
   "execution_count": null,
   "metadata": {},
   "outputs": [],
   "source": [
    "# 3.0 Select player1 game playing strategy\n",
    "player1_algo = Minimax()"
   ]
  },
  {
   "cell_type": "code",
   "execution_count": null,
   "metadata": {},
   "outputs": [],
   "source": [
    "# 4.0 Play a battle between player 1, player 2 with their game playing strategies\n",
    "# Not specifying player 2 with make the game interactive\n",
    "gameController = GameController(player1_algo)\n",
    "gameController.playGame()"
   ]
  },
  {
   "cell_type": "code",
   "execution_count": null,
   "metadata": {},
   "outputs": [],
   "source": [
    "# 5.0 Minmax and MCTS playing against each other\n",
    "player1_algo = Minimax()\n",
    "player2_algo = MonteCarloTreeSearch()\n",
    "\n",
    "gameController = GameController(player1_algo, player2_algo)\n",
    "gameController.playGame()"
   ]
  },
  {
   "cell_type": "code",
   "execution_count": null,
   "metadata": {},
   "outputs": [],
   "source": [
    "# 6.0 Minmax playing against itself\n",
    "player1_algo = Minimax()\n",
    "player2_algo = Minimax()\n",
    "\n",
    "gameController = GameController(player1_algo, player2_algo)\n",
    "gameController.playGame()"
   ]
  },
  {
   "cell_type": "code",
   "execution_count": null,
   "metadata": {},
   "outputs": [],
   "source": []
  },
  {
   "cell_type": "code",
   "execution_count": null,
   "metadata": {},
   "outputs": [],
   "source": []
  }
 ],
 "metadata": {
  "kernelspec": {
   "display_name": "Python 3",
   "language": "python",
   "name": "python3"
  },
  "language_info": {
   "codemirror_mode": {
    "name": "ipython",
    "version": 3
   },
   "file_extension": ".py",
   "mimetype": "text/x-python",
   "name": "python",
   "nbconvert_exporter": "python",
   "pygments_lexer": "ipython3",
   "version": "3.8.5"
  }
 },
 "nbformat": 4,
 "nbformat_minor": 4
}
