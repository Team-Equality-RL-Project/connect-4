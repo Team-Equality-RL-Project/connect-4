{
 "cells": [
  {
   "cell_type": "markdown",
   "metadata": {},
   "source": [
    "MCTS keep track of the win ratio and visit count for each node and selects a potential move based on following formula which combines both these values. \n",
    "\n",
    "$ UCT = X_j + C * \\sqrt\\frac{\\ln(N)}{N_j} $\n",
    "\n",
    "- $UCT$ - Upper Confidence bounds applied to Trees\n",
    "- $X_j$: win ratio for a child node\n",
    "- $C$: Exploration coefficient \n",
    "- $N$: number of times the parent node has been visited\n",
    "- $N_j$: number of times the child node has been visited.\n",
    "- $X_j$ represents exploitation, as it is a large value when the win rate is high\n",
    "- Second term represents exploration, as it is large when the number of visits for that node have been low.\n",
    "\n",
    "The tradeoff of exploration-exploitation can be controlled by tuning the value of $C$. A large $C$ value means more exploration, the algorithm gives chance to least explored nodes. A small value $C$ value means more exploitation, here the algorithm will revisit already explored nodes.\n",
    "\n",
    "The theoretical optimum value for $C$ is $\\sqrt{2}$. From the sensitivity analysis, it is proved that, the theoretical optimum value has the best win ratio."
   ]
  },
  {
   "cell_type": "markdown",
   "metadata": {},
   "source": [
    "**The theoretical optimum value for $C$ is $\\sqrt{2}$. From the sensitivity analysis, it is proved that, the theoretical optimum value has the best win ratio.**"
   ]
  },
  {
   "cell_type": "code",
   "execution_count": 15,
   "metadata": {},
   "outputs": [],
   "source": [
    "ep_outcomes_table_exp_coeff = {'ep': [1, 2, 3, 4, 5, 6, 7, 8, 9, 10, 11, 12, 13, 14, 15, 16, 17, 18, 19, 20],\n",
    " '0.8': [0.0,\n",
    "  5.0,\n",
    "  5.0,\n",
    "  5.0,\n",
    "  5.0,\n",
    "  5.0,\n",
    "  5.0,\n",
    "  5.0,\n",
    "  10.0,\n",
    "  10.0,\n",
    "  10.0,\n",
    "  15.0,\n",
    "  15.0,\n",
    "  15.0,\n",
    "  15.0,\n",
    "  20.0,\n",
    "  20.0,\n",
    "  25.0,\n",
    "  25.0,\n",
    "  25.0],\n",
    " '1': [0.0,\n",
    "  5.0,\n",
    "  5.0,\n",
    "  5.0,\n",
    "  5.0,\n",
    "  5.0,\n",
    "  10.0,\n",
    "  10.0,\n",
    "  15.0,\n",
    "  15.0,\n",
    "  15.0,\n",
    "  20.0,\n",
    "  20.0,\n",
    "  20.0,\n",
    "  20.0,\n",
    "  25.0,\n",
    "  25.0,\n",
    "  30.0,\n",
    "  30.0,\n",
    "  30.0],\n",
    " '1.4': [0.5,\n",
    "  0.0,\n",
    "  5.0,\n",
    "  10.0,\n",
    "  10.0,\n",
    "  10.0,\n",
    "  10.0,\n",
    "  10.0,\n",
    "  10.0,\n",
    "  15.0,\n",
    "  20.0,\n",
    "  20.0,\n",
    "  20.0,\n",
    "  25.0,\n",
    "  25.0,\n",
    "  25.0,\n",
    "  30.0,\n",
    "  35.0,\n",
    "  35.0,\n",
    "  40.0],\n",
    " '1.6': [0.0,\n",
    "  5.0,\n",
    "  5.0,\n",
    "  5.0,\n",
    "  5.0,\n",
    "  5.0,\n",
    "  10.0,\n",
    "  10.0,\n",
    "  10.0,\n",
    "  10.0,\n",
    "  15.0,\n",
    "  15.0,\n",
    "  20.0,\n",
    "  20.0,\n",
    "  20.0,\n",
    "  25.0,\n",
    "  25.0,\n",
    "  30.0,\n",
    "  30.0,\n",
    "  30.0]}"
   ]
  },
  {
   "cell_type": "code",
   "execution_count": 16,
   "metadata": {},
   "outputs": [
    {
     "data": {
      "image/png": "[encoded data removed]",
      "text/plain": [
       "<Figure size 432x288 with 1 Axes>"
      ]
     },
     "metadata": {
      "needs_background": "light"
     },
     "output_type": "display_data"
    }
   ],
   "source": [
    "import matplotlib.pyplot as plt\n",
    "\n",
    "plt.plot(ep_outcomes_table_exp_coeff['ep'], ep_outcomes_table_exp_coeff['0.8'], label=\"0.8\")\n",
    "plt.plot(ep_outcomes_table_exp_coeff['ep'], ep_outcomes_table_exp_coeff['1'], label=\"1\")\n",
    "plt.plot(ep_outcomes_table_exp_coeff['ep'], ep_outcomes_table_exp_coeff['1.4'], label=\"1.4\")\n",
    "plt.plot(ep_outcomes_table_exp_coeff['ep'], ep_outcomes_table_exp_coeff['1.6'], label=\"1.6\")\n",
    "plt.legend(loc=4) #bottom right\n",
    "plt.title('Connect Four exploration coefficient sensitivity')\n",
    "plt.ylabel('Game outcomes in %')\n",
    "plt.xlabel('Game number')\n",
    "plt.show()"
   ]
  },
  {
   "cell_type": "code",
   "execution_count": null,
   "metadata": {},
   "outputs": [],
   "source": []
  }
 ],
 "metadata": {
  "kernelspec": {
   "display_name": "Python 3",
   "language": "python",
   "name": "python3"
  },
  "language_info": {
   "codemirror_mode": {
    "name": "ipython",
    "version": 3
   },
   "file_extension": ".py",
   "mimetype": "text/x-python",
   "name": "python",
   "nbconvert_exporter": "python",
   "pygments_lexer": "ipython3",
   "version": "3.8.5"
  }
 },
 "nbformat": 4,
 "nbformat_minor": 4
}
